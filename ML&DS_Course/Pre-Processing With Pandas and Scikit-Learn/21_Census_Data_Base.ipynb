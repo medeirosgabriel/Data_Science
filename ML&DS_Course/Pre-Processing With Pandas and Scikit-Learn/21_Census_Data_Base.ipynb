{
 "cells": [
  {
   "cell_type": "code",
   "execution_count": 1,
   "metadata": {},
   "outputs": [],
   "source": [
    "import pandas as pd\n",
    "pd.set_option('display.max_columns', None) # See all dataframe columns"
   ]
  },
  {
   "cell_type": "code",
   "execution_count": 2,
   "metadata": {},
   "outputs": [],
   "source": [
    "df = pd.read_csv('Data\\\\census_data.csv')"
   ]
  },
  {
   "cell_type": "code",
   "execution_count": 3,
   "metadata": {},
   "outputs": [
    {
     "data": {
      "text/plain": [
       "array([[39, ' State-gov', 77516, ..., 0, 40, ' United-States'],\n",
       "       [50, ' Self-emp-not-inc', 83311, ..., 0, 13, ' United-States'],\n",
       "       [38, ' Private', 215646, ..., 0, 40, ' United-States'],\n",
       "       ...,\n",
       "       [58, ' Private', 151910, ..., 0, 40, ' United-States'],\n",
       "       [22, ' Private', 201490, ..., 0, 20, ' United-States'],\n",
       "       [52, ' Self-emp-inc', 287927, ..., 0, 40, ' United-States']],\n",
       "      dtype=object)"
      ]
     },
     "execution_count": 3,
     "metadata": {},
     "output_type": "execute_result"
    }
   ],
   "source": [
    "features = df.iloc[:,0:14].values\n",
    "features"
   ]
  },
  {
   "cell_type": "code",
   "execution_count": 4,
   "metadata": {},
   "outputs": [
    {
     "data": {
      "text/plain": [
       "array([' <=50K', ' <=50K', ' <=50K', ..., ' <=50K', ' <=50K', ' >50K'],\n",
       "      dtype=object)"
      ]
     },
     "execution_count": 4,
     "metadata": {},
     "output_type": "execute_result"
    }
   ],
   "source": [
    "target = df.iloc[:,14].values\n",
    "target"
   ]
  },
  {
   "cell_type": "code",
   "execution_count": 9,
   "metadata": {},
   "outputs": [],
   "source": [
    "# Turns categorical variables into numeric variables \n",
    "from sklearn.preprocessing import LabelEncoder\n",
    "labelencoder = LabelEncoder()\n",
    "features[:, 1] = labelencoder.fit_transform(features[:,1])\n",
    "features[:, 3] = labelencoder.fit_transform(features[:,3])\n",
    "features[:, 5] = labelencoder.fit_transform(features[:,5])\n",
    "features[:, 6] = labelencoder.fit_transform(features[:,6])\n",
    "features[:, 7] = labelencoder.fit_transform(features[:,7])\n",
    "features[:, 8] = labelencoder.fit_transform(features[:,8])\n",
    "features[:, 9] = labelencoder.fit_transform(features[:,9])\n",
    "features[:, 13] = labelencoder.fit_transform(features[:,13])"
   ]
  },
  {
   "cell_type": "code",
   "execution_count": 11,
   "metadata": {},
   "outputs": [
    {
     "name": "stderr",
     "output_type": "stream",
     "text": [
      "C:\\ProgramData\\Anaconda3\\lib\\site-packages\\sklearn\\preprocessing\\_encoders.py:415: FutureWarning: The handling of integer data will change in version 0.22. Currently, the categories are determined based on the range [0, max(values)], while in the future they will be determined based on the unique values.\n",
      "If you want the future behaviour and silence this warning, you can specify \"categories='auto'\".\n",
      "In case you used a LabelEncoder before this OneHotEncoder to convert the categories to integers, then you can now use the OneHotEncoder directly.\n",
      "  warnings.warn(msg, FutureWarning)\n",
      "C:\\ProgramData\\Anaconda3\\lib\\site-packages\\sklearn\\preprocessing\\_encoders.py:451: DeprecationWarning: The 'categorical_features' keyword is deprecated in version 0.20 and will be removed in 0.22. You can use the ColumnTransformer instead.\n",
      "  \"use the ColumnTransformer instead.\", DeprecationWarning)\n"
     ]
    },
    {
     "data": {
      "text/plain": [
       "array([[1.0000e+00, 0.0000e+00, 1.0000e+00, ..., 2.1740e+03, 0.0000e+00,\n",
       "        4.0000e+01],\n",
       "       [1.0000e+00, 0.0000e+00, 1.0000e+00, ..., 0.0000e+00, 0.0000e+00,\n",
       "        1.3000e+01],\n",
       "       [1.0000e+00, 0.0000e+00, 1.0000e+00, ..., 0.0000e+00, 0.0000e+00,\n",
       "        4.0000e+01],\n",
       "       ...,\n",
       "       [1.0000e+00, 0.0000e+00, 1.0000e+00, ..., 0.0000e+00, 0.0000e+00,\n",
       "        4.0000e+01],\n",
       "       [1.0000e+00, 0.0000e+00, 1.0000e+00, ..., 0.0000e+00, 0.0000e+00,\n",
       "        2.0000e+01],\n",
       "       [1.0000e+00, 0.0000e+00, 1.0000e+00, ..., 1.5024e+04, 0.0000e+00,\n",
       "        4.0000e+01]])"
      ]
     },
     "execution_count": 11,
     "metadata": {},
     "output_type": "execute_result"
    }
   ],
   "source": [
    "from sklearn.preprocessing import OneHotEncoder # Generate binary vectors for each integer value.\n",
    "onehotencoder = OneHotEncoder(categorical_features=[1,3,5,6,7,8,9,13])\n",
    "features = onehotencoder.fit_transform(features).toarray()\n",
    "features"
   ]
  },
  {
   "cell_type": "code",
   "execution_count": 85,
   "metadata": {},
   "outputs": [
    {
     "data": {
      "text/plain": [
       "array([0, 0, 0, ..., 0, 0, 1], dtype=int64)"
      ]
     },
     "execution_count": 85,
     "metadata": {},
     "output_type": "execute_result"
    }
   ],
   "source": [
    "target = labelencoder.fit_transform(target)\n",
    "target"
   ]
  },
  {
   "cell_type": "code",
   "execution_count": 86,
   "metadata": {},
   "outputs": [
    {
     "data": {
      "text/plain": [
       "array([[-0.2444502 , -0.17429511, -0.26209736, ...,  0.1484529 ,\n",
       "        -0.21665953, -0.03542945],\n",
       "       [-0.2444502 , -0.17429511, -0.26209736, ..., -0.14592048,\n",
       "        -0.21665953, -2.22215312],\n",
       "       [-0.2444502 , -0.17429511, -0.26209736, ..., -0.14592048,\n",
       "        -0.21665953, -0.03542945],\n",
       "       ...,\n",
       "       [-0.2444502 , -0.17429511, -0.26209736, ..., -0.14592048,\n",
       "        -0.21665953, -0.03542945],\n",
       "       [-0.2444502 , -0.17429511, -0.26209736, ..., -0.14592048,\n",
       "        -0.21665953, -1.65522476],\n",
       "       [-0.2444502 , -0.17429511, -0.26209736, ...,  1.88842434,\n",
       "        -0.21665953, -0.03542945]])"
      ]
     },
     "execution_count": 86,
     "metadata": {},
     "output_type": "execute_result"
    }
   ],
   "source": [
    "from sklearn.preprocessing import StandardScaler\n",
    "scaler = StandardScaler()\n",
    "features = scaler.fit_transform(features)\n",
    "features"
   ]
  },
  {
   "cell_type": "code",
   "execution_count": null,
   "metadata": {},
   "outputs": [],
   "source": []
  }
 ],
 "metadata": {
  "kernelspec": {
   "display_name": "Python 3",
   "language": "python",
   "name": "python3"
  },
  "language_info": {
   "codemirror_mode": {
    "name": "ipython",
    "version": 3
   },
   "file_extension": ".py",
   "mimetype": "text/x-python",
   "name": "python",
   "nbconvert_exporter": "python",
   "pygments_lexer": "ipython3",
   "version": "3.7.4"
  }
 },
 "nbformat": 4,
 "nbformat_minor": 2
}
