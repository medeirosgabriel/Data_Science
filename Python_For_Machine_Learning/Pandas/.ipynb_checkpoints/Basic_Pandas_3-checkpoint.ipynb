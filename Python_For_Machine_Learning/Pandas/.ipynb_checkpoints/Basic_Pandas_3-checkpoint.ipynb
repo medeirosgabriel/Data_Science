{
 "cells": [
  {
   "cell_type": "code",
   "execution_count": 1,
   "metadata": {},
   "outputs": [],
   "source": [
    "import pandas as pd\n",
    "students = {'Nome' : ['Ricardo', 'Pedro', 'Roberto', 'Carlos'],\n",
    "        'Nota': [4, 7, 5.5, 9],\n",
    "        'Aprovado': ['Não', 'Sim', 'Não', 'Sim']}"
   ]
  },
  {
   "cell_type": "code",
   "execution_count": 4,
   "metadata": {},
   "outputs": [],
   "source": [
    "studentsDF = pd.DataFrame(students)"
   ]
  },
  {
   "cell_type": "code",
   "execution_count": 5,
   "metadata": {},
   "outputs": [
    {
     "name": "stdout",
     "output_type": "stream",
     "text": [
      "      Nome  Nota Aprovado\n",
      "0  Ricardo   4.0      Não\n",
      "1    Pedro   7.0      Sim\n",
      "2  Roberto   5.5      Não\n",
      "3   Carlos   9.0      Sim\n"
     ]
    }
   ],
   "source": [
    "print(studentsDF)"
   ]
  },
  {
   "cell_type": "code",
   "execution_count": 6,
   "metadata": {},
   "outputs": [
    {
     "name": "stdout",
     "output_type": "stream",
     "text": [
      "      Nome  Nota Aprovado\n",
      "0  Ricardo   4.0      Não\n",
      "1    Pedro   7.0      Sim\n",
      "2  Roberto   5.5      Não\n"
     ]
    }
   ],
   "source": [
    "firstLines = studentsDF.loc[0:2]\n",
    "print(firstLines)"
   ]
  },
  {
   "cell_type": "code",
   "execution_count": 8,
   "metadata": {
    "scrolled": true
   },
   "outputs": [
    {
     "name": "stdout",
     "output_type": "stream",
     "text": [
      "      Nome  Nota Aprovado\n",
      "0  Ricardo   4.0      Não\n",
      "1    Pedro   7.0      Sim\n",
      "2  Roberto   5.5      Não\n"
     ]
    }
   ],
   "source": [
    "newDF = studentsDF[studentsDF['Nota'] != 9]\n",
    "print(newDF)"
   ]
  },
  {
   "cell_type": "code",
   "execution_count": 9,
   "metadata": {},
   "outputs": [
    {
     "name": "stdout",
     "output_type": "stream",
     "text": [
      "      Nome  Nota Aprovado\n",
      "0  Ricardo   4.0      Não\n",
      "2  Roberto   5.5      Não\n"
     ]
    }
   ],
   "source": [
    "failedStudents = studentsDF.loc[studentsDF['Aprovado'] == 'Não']\n",
    "print(failedStudents)"
   ]
  },
  {
   "cell_type": "code",
   "execution_count": null,
   "metadata": {},
   "outputs": [],
   "source": []
  }
 ],
 "metadata": {
  "kernelspec": {
   "display_name": "Python 3",
   "language": "python",
   "name": "python3"
  },
  "language_info": {
   "codemirror_mode": {
    "name": "ipython",
    "version": 3
   },
   "file_extension": ".py",
   "mimetype": "text/x-python",
   "name": "python",
   "nbconvert_exporter": "python",
   "pygments_lexer": "ipython3",
   "version": "3.7.4"
  }
 },
 "nbformat": 4,
 "nbformat_minor": 2
}
