{
 "cells": [
  {
   "cell_type": "code",
   "execution_count": 16,
   "metadata": {},
   "outputs": [],
   "source": [
    "import tensorflow as tf"
   ]
  },
  {
   "cell_type": "code",
   "execution_count": 17,
   "metadata": {},
   "outputs": [],
   "source": [
    "variable = tf.Variable(2)"
   ]
  },
  {
   "cell_type": "code",
   "execution_count": 18,
   "metadata": {},
   "outputs": [
    {
     "name": "stdout",
     "output_type": "stream",
     "text": [
      "2\n"
     ]
    }
   ],
   "source": [
    "init = tf.global_variables_initializer() # Variable initializer\n",
    "with tf.Session() as sess:\n",
    "    sess.run(init)\n",
    "    v = sess.run(variable)\n",
    "print(v)"
   ]
  },
  {
   "cell_type": "code",
   "execution_count": 19,
   "metadata": {},
   "outputs": [],
   "source": [
    "# Create a random matrix\n",
    "matrix = tf.random.normal((3, 5), 0, 1) # (shape, mean, standard deviation)"
   ]
  },
  {
   "cell_type": "code",
   "execution_count": 20,
   "metadata": {},
   "outputs": [],
   "source": [
    "variable_2 = tf.Variable(matrix)"
   ]
  },
  {
   "cell_type": "code",
   "execution_count": 21,
   "metadata": {},
   "outputs": [
    {
     "name": "stdout",
     "output_type": "stream",
     "text": [
      "Tensor(\"random_normal_1:0\", shape=(3, 5), dtype=float32)\n",
      "<tf.Variable 'Variable_5:0' shape=(3, 5) dtype=float32_ref>\n"
     ]
    }
   ],
   "source": [
    "print(matrix)\n",
    "print(variable_2)"
   ]
  },
  {
   "cell_type": "code",
   "execution_count": 23,
   "metadata": {},
   "outputs": [
    {
     "name": "stdout",
     "output_type": "stream",
     "text": [
      "[[ 0.8364114   2.4383137  -0.60153997 -0.73469067 -0.17396963]\n",
      " [ 0.3868606   0.15479831  0.10242566 -0.10998282 -1.7826006 ]\n",
      " [ 0.24529791  0.28192836 -0.27180365 -0.71157104  0.03316287]]\n"
     ]
    }
   ],
   "source": [
    "init = tf.global_variables_initializer() # Variable initializer\n",
    "with tf.Session() as sess:\n",
    "    sess.run(init)\n",
    "    v = sess.run(variable_2)\n",
    "print(v)"
   ]
  },
  {
   "cell_type": "code",
   "execution_count": null,
   "metadata": {},
   "outputs": [],
   "source": []
  }
 ],
 "metadata": {
  "kernelspec": {
   "display_name": "Python 3",
   "language": "python",
   "name": "python3"
  },
  "language_info": {
   "codemirror_mode": {
    "name": "ipython",
    "version": 3
   },
   "file_extension": ".py",
   "mimetype": "text/x-python",
   "name": "python",
   "nbconvert_exporter": "python",
   "pygments_lexer": "ipython3",
   "version": "3.7.4"
  }
 },
 "nbformat": 4,
 "nbformat_minor": 2
}
