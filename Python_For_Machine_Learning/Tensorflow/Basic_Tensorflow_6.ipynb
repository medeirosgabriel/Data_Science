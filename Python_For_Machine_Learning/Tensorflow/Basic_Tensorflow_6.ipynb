{
 "cells": [
  {
   "cell_type": "code",
   "execution_count": 2,
   "metadata": {},
   "outputs": [],
   "source": [
    "import tensorflow as tf\n",
    "import numpy as np"
   ]
  },
  {
   "cell_type": "code",
   "execution_count": 9,
   "metadata": {},
   "outputs": [],
   "source": [
    "data_x = np.random.randn(4, 8) # Creates a 4x8 matrix\n",
    "data_w = np.random.randn(8, 2) # Creates a 8x2 matrix\n",
    "\n",
    "b = tf.random_normal((4, 2), 0, 1) # Random 4x2 matrix (tensor)\n",
    "\n",
    "# .placeholder(x, y) x-> type y -> dimension\n",
    "x = tf.placeholder(tf.float32, shape=(4, 8)) # Placeholder tensor\n",
    "w = tf.placeholder(tf.float32, shape=(8, 2))\n",
    "\n",
    "operation = tf.matmul(x, w) + b # Tensor operations\n",
    "\n",
    "maximum = tf.reduce_max(operation) # Finds the highest matrix value\n",
    "\n",
    "with tf.Session() as sess:\n",
    "    # Feed dict -> Information about the values of placeholders\n",
    "    output_1 = sess.run(operation, feed_dict={x: data_x, w: data_w})\n",
    "    output_2 = sess.run(maximum, feed_dict={x: data_x, w: data_w})"
   ]
  },
  {
   "cell_type": "code",
   "execution_count": 12,
   "metadata": {},
   "outputs": [
    {
     "name": "stdout",
     "output_type": "stream",
     "text": [
      "[[ 2.7580261  -2.8583238 ]\n",
      " [ 2.8150458  -3.9648733 ]\n",
      " [ 0.50312513 -4.3087645 ]\n",
      " [-6.3148985   2.6642246 ]]\n"
     ]
    }
   ],
   "source": [
    "print (output_1)"
   ]
  },
  {
   "cell_type": "code",
   "execution_count": 13,
   "metadata": {},
   "outputs": [
    {
     "name": "stdout",
     "output_type": "stream",
     "text": [
      "3.8179314\n"
     ]
    }
   ],
   "source": [
    "print (output_2)"
   ]
  },
  {
   "cell_type": "code",
   "execution_count": 28,
   "metadata": {},
   "outputs": [
    {
     "name": "stdout",
     "output_type": "stream",
     "text": [
      "[4.3847237, 3.0046196, 2.9052067, 2.2465768, 5.2545686]\n"
     ]
    }
   ],
   "source": [
    "x1 = np.random.randn(4,8)  \n",
    "w1 = np.random.randn(8,2)  \n",
    "\n",
    "x2 = np.random.randn(4,8)  \n",
    "w2 = np.random.randn(8,2)\n",
    "\n",
    "x3 = np.random.randn(10,3)\n",
    "w3 = np.random.randn(3,1)\n",
    "\n",
    "x4 = np.random.randn(4,8)  \n",
    "w4 = np.random.randn(8,2)\n",
    "\n",
    "x5 = np.random.randn(4,8)  \n",
    "w5 = np.random.randn(8,2)\n",
    "\n",
    "list_x = [x1, x2, x3, x4, x5]\n",
    "list_w = [w1, w2, w3, w4, w5]\n",
    "output_list = []\n",
    "\n",
    "b = tf.random_normal((4,2),0,1)\n",
    "\n",
    "x = tf.placeholder(tf.float32, shape=(None, None)) # Accepts any dimension\n",
    "w = tf.placeholder(tf.float32, shape=(None, None)) # Accepts any dimension\n",
    "\n",
    "operation = tf.matmul(x, w)\n",
    "\n",
    "maximum = tf.reduce_max(operation)\n",
    "\n",
    "with tf.Session() as sess:\n",
    "    for i in range(5): # Each interations has a different input\n",
    "        output = sess.run(maximum, feed_dict={x: list_x[i], w: list_w[i]})\n",
    "        output_list.append(output)\n",
    "print(output_list)"
   ]
  },
  {
   "cell_type": "code",
   "execution_count": null,
   "metadata": {},
   "outputs": [],
   "source": []
  }
 ],
 "metadata": {
  "kernelspec": {
   "display_name": "Python 3",
   "language": "python",
   "name": "python3"
  },
  "language_info": {
   "codemirror_mode": {
    "name": "ipython",
    "version": 3
   },
   "file_extension": ".py",
   "mimetype": "text/x-python",
   "name": "python",
   "nbconvert_exporter": "python",
   "pygments_lexer": "ipython3",
   "version": "3.7.4"
  }
 },
 "nbformat": 4,
 "nbformat_minor": 2
}
