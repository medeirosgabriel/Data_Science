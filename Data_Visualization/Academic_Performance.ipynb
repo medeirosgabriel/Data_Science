{
 "cells": [
  {
   "cell_type": "code",
   "execution_count": 64,
   "metadata": {
    "scrolled": true
   },
   "outputs": [
    {
     "name": "stdout",
     "output_type": "stream",
     "text": [
      "[8.66, 8.76, 8.89090909090909]\n"
     ]
    },
    {
     "data": {
      "text/plain": [
       "Text(0.5, 1.0, 'Academic Performance')"
      ]
     },
     "execution_count": 64,
     "metadata": {},
     "output_type": "execute_result"
    },
    {
     "data": {
      "image/png": "[encoded data removed]",
      "text/plain": [
       "<Figure size 432x288 with 1 Axes>"
      ]
     },
     "metadata": {
      "needs_background": "light"
     },
     "output_type": "display_data"
    }
   ],
   "source": [
    "# Imports\n",
    "\n",
    "from matplotlib import pyplot as plt\n",
    "\n",
    "# Datas\n",
    "\n",
    "first_period = {\"4-FMCC1\": 9.3, \"4-IC\": 7.9, \"4-LP1\": 9.4, \"4-P1\": 9.4, \"4-LPT\": 7.3}\n",
    "second_period = {\"4-C1\": 8.8, \"4-FMCC2\": 7.1, \"4-LP2\": 9.7, \"4-P2\": 9.2, \"4-DEC\": 9.0}\n",
    "third_period = {\"4-ALG_L\": 9.4, \"4-EDA\": 8.4, \"4-LEDA\": 9.2, \"4-LOG\": 8.0, \"4-GRAF\": 8.9, \"2-PE\": 10.0}\n",
    "periods = [first_period, second_period, third_period]\n",
    "\n",
    "# Math functions\n",
    "\n",
    "def period_mean(dict):\n",
    "    sum = 0\n",
    "    ch = 0\n",
    "    for key in dict.keys():\n",
    "        sum += dict[key] * int(key.split(\"-\")[0])\n",
    "        ch += int(key.split(\"-\")[0])\n",
    "    return float(sum)/ch\n",
    "\n",
    "def periods_mean(means):\n",
    "    sum = 0\n",
    "    list = []\n",
    "    for i in range(len(means)):\n",
    "        sum += means[i]\n",
    "        list.append(sum/(i + 1))\n",
    "    return list\n",
    "\n",
    "# Data visulization\n",
    "\n",
    "ys = [period_mean(period) for period in periods]\n",
    "xs = [i for i in range(1, len(periods) + 1)]\n",
    "\n",
    "plt.xticks(xs)\n",
    "plt.plot(xs, ys, 'g-', label='Period Mean')\n",
    "plt.plot(xs, periods_mean(ys), 'r-.', label='Periods Mean')\n",
    "plt.legend(loc=9)\n",
    "plt.xlabel(\"Period\")\n",
    "plt.title(\"Academic Performance\")"
   ]
  },
  {
   "cell_type": "code",
   "execution_count": null,
   "metadata": {},
   "outputs": [],
   "source": []
  }
 ],
 "metadata": {
  "kernelspec": {
   "display_name": "Python 3",
   "language": "python",
   "name": "python3"
  },
  "language_info": {
   "codemirror_mode": {
    "name": "ipython",
    "version": 3
   },
   "file_extension": ".py",
   "mimetype": "text/x-python",
   "name": "python",
   "nbconvert_exporter": "python",
   "pygments_lexer": "ipython3",
   "version": "3.7.4"
  }
 },
 "nbformat": 4,
 "nbformat_minor": 2
}
