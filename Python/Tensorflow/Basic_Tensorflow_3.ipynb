{
 "cells": [
  {
   "cell_type": "code",
   "execution_count": 1,
   "metadata": {},
   "outputs": [],
   "source": [
    "import tensorflow as tf"
   ]
  },
  {
   "cell_type": "code",
   "execution_count": 3,
   "metadata": {},
   "outputs": [],
   "source": [
    "a = tf.constant(2)\n",
    "b = tf.constant([3, 1, 5, 8, 6]) # 1xn\n",
    "c = tf.constant([[2, 0, 4], [3, 5, 7]]) #nxn\n",
    "\n",
    "# In the examples above, a is a 0-dimensional (scalar)\n",
    "# b is a 1-dimensional (vector)\n",
    "# c is a 2-dimensional (matrix)\n",
    "\n",
    "sess = tf.Session()\n",
    "saida = sess.run(c)\n",
    "sess.close()"
   ]
  },
  {
   "cell_type": "code",
   "execution_count": 4,
   "metadata": {},
   "outputs": [],
   "source": [
    "import numpy as np\n",
    "a1 = np.array(2)\n",
    "b1 = np.array([3, 1, 5, 8, 6])\n",
    "c1 = np.array([[2, 0, 4], [3, 5, 7]])"
   ]
  },
  {
   "cell_type": "code",
   "execution_count": 13,
   "metadata": {},
   "outputs": [
    {
     "name": "stdout",
     "output_type": "stream",
     "text": [
      "() () (5,) (5,) (2, 3) (2, 3)\n"
     ]
    }
   ],
   "source": [
    "print(a.shape, a1.shape,\n",
    "      b.shape, b1.shape,\n",
    "      c.shape, c1.shape)"
   ]
  },
  {
   "cell_type": "code",
   "execution_count": 22,
   "metadata": {},
   "outputs": [],
   "source": [
    "const = tf.constant(4, dtype=tf.float64)"
   ]
  },
  {
   "cell_type": "code",
   "execution_count": 23,
   "metadata": {},
   "outputs": [
    {
     "name": "stdout",
     "output_type": "stream",
     "text": [
      "Tensor(\"Const_11:0\", shape=(), dtype=float64)\n"
     ]
    }
   ],
   "source": [
    "print(const)"
   ]
  },
  {
   "cell_type": "code",
   "execution_count": null,
   "metadata": {},
   "outputs": [],
   "source": []
  }
 ],
 "metadata": {
  "kernelspec": {
   "display_name": "Python 3",
   "language": "python",
   "name": "python3"
  },
  "language_info": {
   "codemirror_mode": {
    "name": "ipython",
    "version": 3
   },
   "file_extension": ".py",
   "mimetype": "text/x-python",
   "name": "python",
   "nbconvert_exporter": "python",
   "pygments_lexer": "ipython3",
   "version": "3.7.4"
  }
 },
 "nbformat": 4,
 "nbformat_minor": 2
}
